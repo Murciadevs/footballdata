{
 "cells": [
  {
   "cell_type": "code",
   "execution_count": 2,
   "metadata": {},
   "outputs": [
    {
     "name": "stdout",
     "output_type": "stream",
     "text": [
      "          name  age      city\n",
      "person1   John   25  New York\n",
      "persona2  Jane   30     Paris\n",
      "person3   Mary   35    London\n"
     ]
    }
   ],
   "source": [
    "import pandas as pd\n",
    "\n",
    "\n",
    "people= {\n",
    "        'name': ['John', 'Jane', 'Mary'],\n",
    "        'age': [25, 30, 35],\n",
    "        'city': ['New York', 'Paris', 'London']\n",
    "    }\n",
    "\n",
    "\n",
    "df = pd.DataFrame(people, index=['person1', 'persona2', 'person3'], columns=['name', 'age', 'city'])\n",
    "print(df)"
   ]
  },
  {
   "cell_type": "code",
   "execution_count": 3,
   "metadata": {},
   "outputs": [
    {
     "name": "stdout",
     "output_type": "stream",
     "text": [
      "         nombre  edad    ciudad\n",
      "person1    John    25  New York\n",
      "persona2   Jane    30     Paris\n",
      "person3    Mary    35    London\n"
     ]
    }
   ],
   "source": [
    "new_columns=['nombre', 'edad', 'ciudad']\n",
    "df.columns=new_columns\n",
    "print(df)"
   ]
  }
 ],
 "metadata": {
  "kernelspec": {
   "display_name": "venv",
   "language": "python",
   "name": "python3"
  },
  "language_info": {
   "codemirror_mode": {
    "name": "ipython",
    "version": 3
   },
   "file_extension": ".py",
   "mimetype": "text/x-python",
   "name": "python",
   "nbconvert_exporter": "python",
   "pygments_lexer": "ipython3",
   "version": "3.12.6"
  }
 },
 "nbformat": 4,
 "nbformat_minor": 2
}
